{
 "cells": [
  {
   "cell_type": "markdown",
   "metadata": {},
   "source": [
    "## Data Cleaning \n",
    "\n",
    "You'll notice that this dataset is by no means ready for analysis. We have:\n",
    "\n",
    "* a numeric column interpreted as a string\n",
    "* extra columns that are not relevant to our analysis\n",
    "* multiple rows with missing values\n",
    "* column names are too long\n",
    "\n",
    "Let's \"clean\" our dataset by fixing these errors below."
   ]
  },
  {
   "cell_type": "code",
   "execution_count": 23,
   "metadata": {},
   "outputs": [],
   "source": [
    "# import required modules for this project\n",
    "\n",
    "import pandas as pd\n",
    "import numpy as np\n",
    "\n",
    "import matplotlib.pyplot as plt\n",
    "import seaborn as sns"
   ]
  },
  {
   "cell_type": "code",
   "execution_count": 24,
   "metadata": {},
   "outputs": [
    {
     "data": {
      "text/plain": [
       "No                                         0\n",
       "X2 house age                              11\n",
       "X3 distance to the nearest MRT station     0\n",
       "X4 number of convenience stores            1\n",
       "X5 latitude                                0\n",
       "X6 longitude                               0\n",
       "Y house price of unit area                 0\n",
       "dtype: int64"
      ]
     },
     "execution_count": 24,
     "metadata": {},
     "output_type": "execute_result"
    }
   ],
   "source": [
    "# TODO: load in your excel file and print out how many missing values are in each column\n",
    "df = ...\n",
    "\n",
    "..."
   ]
  },
  {
   "cell_type": "code",
   "execution_count": 26,
   "metadata": {},
   "outputs": [
    {
     "data": {
      "text/plain": [
       "Index(['No', 'house_age', 'distance_to_mrt', 'num_convenience_stores', 'lat',\n",
       "       'long', 'price_unit_area'],\n",
       "      dtype='object')"
      ]
     },
     "execution_count": 26,
     "metadata": {},
     "output_type": "execute_result"
    }
   ],
   "source": [
    "# TODO: using this dictionary, rename the relevant columns in your dataframe\n",
    "# documentation: https://pandas.pydata.org/docs/reference/api/pandas.DataFrame.rename.html\n",
    "rename_dict = {\n",
    "    \"X2 house age\": \"house_age\", \n",
    "    \"X3 distance to the nearest MRT station\": \"distance_to_mrt\", \n",
    "    \"X4 number of convenience stores\": \"num_convenience_stores\",\n",
    "    \"X5 latitude\": \"lat\",\n",
    "    \"X6 longitude\": \"long\",\n",
    "    \"Y house price of unit area\": \"price_unit_area\"\n",
    "}\n",
    "\n",
    "# rename columns\n",
    "df_rename = ...\n",
    "\n",
    "df_rename.columns"
   ]
  },
  {
   "cell_type": "code",
   "execution_count": 27,
   "metadata": {},
   "outputs": [],
   "source": [
    "selected = [\"lat\", \"long\", \"No\"]\n",
    "\n",
    "# TODO: Drop the above selected columns from your dataframe\n",
    "# documentation: https://pandas.pydata.org/docs/reference/api/pandas.DataFrame.drop.html\n",
    "df_drop = ..."
   ]
  },
  {
   "cell_type": "code",
   "execution_count": null,
   "metadata": {},
   "outputs": [],
   "source": [
    "# remove quotes from sample\n",
    "df_drop[\"distance_to_mrt\"] = df_drop[\"distance_to_mrt\"].str.strip(\"\\\"\")\n",
    "\n",
    "# TODO: convert the \"distance_to_mrt\" column to the \"float\" datatype\n",
    "# documentation: https://pandas.pydata.org/docs/reference/api/pandas.DataFrame.astype.html\n",
    "df_drop[\"distance_to_mrt\"] = ..."
   ]
  },
  {
   "cell_type": "code",
   "execution_count": null,
   "metadata": {},
   "outputs": [],
   "source": [
    "# check current \"shape\" of dataframe\n",
    "df_drop.shape"
   ]
  },
  {
   "cell_type": "code",
   "execution_count": null,
   "metadata": {},
   "outputs": [],
   "source": [
    "# TODO: Remove missing values from this dataframe\n",
    "...\n",
    "\n",
    "# check shape again\n",
    "df_drop.shape"
   ]
  },
  {
   "cell_type": "markdown",
   "metadata": {},
   "source": [
    "## Explore Again\n",
    "\n",
    "Now that we've cleaned our dataset, let's again explore the relationships & distributions of our dataset. \n",
    "\n",
    "Perhaps we missed something \"qualitative\" about our data that we should remove. "
   ]
  },
  {
   "cell_type": "code",
   "execution_count": null,
   "metadata": {},
   "outputs": [],
   "source": [
    "# TODO: print out the summary statistics (mean, median, max, min, count) of all numeric columns\n",
    "..."
   ]
  },
  {
   "cell_type": "code",
   "execution_count": null,
   "metadata": {},
   "outputs": [],
   "source": [
    "# notice how the minimum value for \"num_convenience_stores\" is -6\n",
    "# TODO: how do we have -6 convenience stores? this must be an error, let's remove it\n",
    "# documentation: https://pandas.pydata.org/docs/user_guide/indexing.html#boolean-indexing\n",
    "..."
   ]
  },
  {
   "cell_type": "code",
   "execution_count": null,
   "metadata": {},
   "outputs": [],
   "source": [
    "# notice how the maximum value for \"num_convenience_stores\" is 100\n",
    "# this value does not show up in any other row and represents an extreme outlier\n",
    "# TODO: this is most likely an error, let's remove it\n",
    "..."
   ]
  },
  {
   "cell_type": "code",
   "execution_count": null,
   "metadata": {},
   "outputs": [],
   "source": [
    "# notice how the maximum \"house_age\" is 410.3 years old \n",
    "# not looking at statistics, the oldest house in Taiwan was built in the 17th century (300 years at most)\n",
    "# TODO: let's remove this value\n",
    "..."
   ]
  },
  {
   "cell_type": "code",
   "execution_count": null,
   "metadata": {},
   "outputs": [],
   "source": [
    "# TODO : plot histograms, boxplots, and barcharts of all available numeric columns. \n",
    "# Create as many additional code blocks as needed to present your visualizations.\n",
    "# article: https://www.statology.org/univariate-analysis-in-python/ \n",
    "..."
   ]
  },
  {
   "cell_type": "code",
   "execution_count": null,
   "metadata": {},
   "outputs": [],
   "source": [
    "# TODO : plot scatter-plots and other visualizations of all available numeric columns. \n",
    "# Create as many additional code blocks as needed to present your visualizations.\n",
    "# article: https://www.statology.org/bivariate-analysis-in-python/\n",
    "..."
   ]
  },
  {
   "cell_type": "code",
   "execution_count": 69,
   "metadata": {},
   "outputs": [],
   "source": [
    "# TODO: save your transformed dataframe into `data/processed` for modeling\n",
    "..."
   ]
  }
 ],
 "metadata": {
  "kernelspec": {
   "display_name": "Python 3",
   "language": "python",
   "name": "python3"
  },
  "language_info": {
   "codemirror_mode": {
    "name": "ipython",
    "version": 3
   },
   "file_extension": ".py",
   "mimetype": "text/x-python",
   "name": "python",
   "nbconvert_exporter": "python",
   "pygments_lexer": "ipython3",
   "version": "3.10.7"
  },
  "orig_nbformat": 4
 },
 "nbformat": 4,
 "nbformat_minor": 2
}
