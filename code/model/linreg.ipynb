{
 "cells": [
  {
   "cell_type": "markdown",
   "metadata": {},
   "source": [
    "# Linear Regression\n",
    "\n",
    "To predict our rental housing prices, we will begin with a linear regression model. To find out more about the maths behind regression, check out the [following article](https://onlinestatbook.com/2/regression/regression.html)."
   ]
  },
  {
   "cell_type": "code",
   "execution_count": null,
   "metadata": {},
   "outputs": [],
   "source": [
    "\"\"\"\n",
    "A simple linear regression model with all predictors and target variable of\n",
    "price of unit area.\n",
    "\"\"\"\n",
    "\n",
    "from sklearn.linear_model import LinearRegression\n",
    "from sklearn.model_selection import train_test_split\n",
    "from sklearn.metrics import mean_squared_error\n",
    "\n",
    "import pandas as pd\n",
    "import pickle"
   ]
  },
  {
   "cell_type": "code",
   "execution_count": null,
   "metadata": {},
   "outputs": [],
   "source": [
    "# TODO: complete the following file by implementing the listed steps\n",
    "# 1) load in your dataframe using pandas\n",
    "# 2) Split your data into an \"X\" set of all numeric predictors\n",
    "#   and a \"y\" set of the unit price\n",
    "# 3) Split your X & y data into a training and testing set\n",
    "# 4) Create a linear regression object, and fit your data\n",
    "# 5) Calculate the R2 and MSE of your linear regressor\n",
    "# article: https://realpython.com/linear-regression-in-python/\n",
    "df = ...\n",
    "\n",
    "\n",
    "# serialize and save the model\n",
    "#   (uncomment this line of code once you're done implementing this)\n",
    "# pickle.dump(reg, open(\"code/model/saved_models/linreg.sav\", 'wb'))"
   ]
  }
 ],
 "metadata": {
  "language_info": {
   "name": "python"
  },
  "orig_nbformat": 4
 },
 "nbformat": 4,
 "nbformat_minor": 2
}
