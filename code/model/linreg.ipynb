{
 "cells": [
  {
   "cell_type": "markdown",
   "metadata": {},
   "source": [
    "# Linear Regression\n",
    "\n",
    "To predict our rental housing prices, we will begin with a linear regression model. To find out more about the maths behind regression, check out the [following article](https://onlinestatbook.com/2/regression/regression.html)."
   ]
  },
  {
   "cell_type": "code",
   "execution_count": 28,
   "metadata": {},
   "outputs": [],
   "source": [
    "\"\"\"\n",
    "A simple linear regression model with all predictors and target variable of\n",
    "price of unit area.\n",
    "\"\"\"\n",
    "\n",
    "from sklearn.linear_model import LinearRegression\n",
    "from sklearn.model_selection import train_test_split\n",
    "from sklearn.metrics import mean_squared_error\n",
    "\n",
    "import pandas as pd\n",
    "import pickle\n"
   ]
  },
  {
   "cell_type": "code",
   "execution_count": 30,
   "metadata": {},
   "outputs": [
    {
     "name": "stdout",
     "output_type": "stream",
     "text": [
      "[45.04238075 32.54705136 44.20192639 41.0693506  43.89782249 29.84500962\n",
      " 35.7516899  47.8831571  47.87064701 36.93465512]\n"
     ]
    }
   ],
   "source": [
    "# TODO: complete the following file by implementing the listed steps\n",
    "\n",
    "# 1) New dataframe\n",
    "df = pd.read_csv('/Users/uokoriogha.fellow/Desktop/TKH Github Projects/rental-pricing-prediction/data/processed/cleaned_data.csv')\n",
    "\n",
    "# 2) Split data into an \"X\" set of all numeric predictors\n",
    "X = df.drop(columns = 'price_unit_area')\n",
    "\n",
    "# \"y\" set of the unit price\n",
    "y = df['price_unit_area']\n",
    "\n",
    "\n",
    "# 3) Split your X & y data into a training and testing set\n",
    "X_train, X_test, y_train, y_test = train_test_split(X, y, test_size=0.2, random_state= 55)\n",
    "\n",
    "# 4) Create a linear regression object, and FIT your data\n",
    "\n",
    "lin_reg = LinearRegression()\n",
    "lin_reg.fit(X_train, y_train)\n",
    "\n",
    "#Predicted values\n",
    "predict_y = lin_reg.predict(X_test)\n",
    "print(predict_y[:10])\n",
    "\n",
    "# 5) Calculate the R2 and MSE of your linear regressor\n",
    "# article: https://realpython.com/linear-regression-in-python/\n",
    "\n",
    "\n",
    "\n",
    "# serialize and save the model\n",
    "#   (uncomment this line of code once you're done implementing this)\n",
    "# pickle.dump(reg, open(\"code/model/saved_models/linreg.sav\", 'wb'))"
   ]
  },
  {
   "cell_type": "code",
   "execution_count": null,
   "metadata": {},
   "outputs": [],
   "source": []
  }
 ],
 "metadata": {
  "kernelspec": {
   "display_name": "base",
   "language": "python",
   "name": "python3"
  },
  "language_info": {
   "codemirror_mode": {
    "name": "ipython",
    "version": 3
   },
   "file_extension": ".py",
   "mimetype": "text/x-python",
   "name": "python",
   "nbconvert_exporter": "python",
   "pygments_lexer": "ipython3",
   "version": "3.11.5"
  },
  "orig_nbformat": 4
 },
 "nbformat": 4,
 "nbformat_minor": 2
}
